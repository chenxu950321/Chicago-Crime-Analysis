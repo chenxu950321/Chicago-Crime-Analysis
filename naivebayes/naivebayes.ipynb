{
 "cells": [
  {
   "cell_type": "code",
   "execution_count": 1,
   "metadata": {
    "pycharm": {
     "is_executing": false
    }
   },
   "outputs": [],
   "source": [
    "import pandas as pd\n",
    "import numpy as np\n",
    "from sklearn.naive_bayes import GaussianNB"
   ]
  },
  {
   "cell_type": "code",
   "execution_count": 2,
   "metadata": {
    "pycharm": {
     "is_executing": false
    },
    "scrolled": true
   },
   "outputs": [
    {
     "data": {
      "text/html": [
       "<div>\n",
       "<style scoped>\n",
       "    .dataframe tbody tr th:only-of-type {\n",
       "        vertical-align: middle;\n",
       "    }\n",
       "\n",
       "    .dataframe tbody tr th {\n",
       "        vertical-align: top;\n",
       "    }\n",
       "\n",
       "    .dataframe thead th {\n",
       "        text-align: right;\n",
       "    }\n",
       "</style>\n",
       "<table border=\"1\" class=\"dataframe\">\n",
       "  <thead>\n",
       "    <tr style=\"text-align: right;\">\n",
       "      <th></th>\n",
       "      <th>Case Number</th>\n",
       "      <th>Date</th>\n",
       "      <th>Block</th>\n",
       "      <th>IUCR</th>\n",
       "      <th>Primary Type</th>\n",
       "      <th>Description</th>\n",
       "      <th>Location Description</th>\n",
       "      <th>Arrest</th>\n",
       "      <th>Domestic</th>\n",
       "      <th>Beat</th>\n",
       "      <th>Ward</th>\n",
       "      <th>FBI Code</th>\n",
       "      <th>X Coordinate</th>\n",
       "      <th>Y Coordinate</th>\n",
       "      <th>Year</th>\n",
       "      <th>Latitude</th>\n",
       "      <th>Longitude</th>\n",
       "      <th>Location</th>\n",
       "    </tr>\n",
       "  </thead>\n",
       "  <tbody>\n",
       "    <tr>\n",
       "      <td>0</td>\n",
       "      <td>JC510649</td>\n",
       "      <td>01/01/2010 07:00:00 PM</td>\n",
       "      <td>033XX W WARNER AVE</td>\n",
       "      <td>0266</td>\n",
       "      <td>CRIM SEXUAL ASSAULT</td>\n",
       "      <td>PREDATORY</td>\n",
       "      <td>APARTMENT</td>\n",
       "      <td>False</td>\n",
       "      <td>False</td>\n",
       "      <td>1724</td>\n",
       "      <td>33.0</td>\n",
       "      <td>02</td>\n",
       "      <td>NaN</td>\n",
       "      <td>NaN</td>\n",
       "      <td>2010</td>\n",
       "      <td>NaN</td>\n",
       "      <td>NaN</td>\n",
       "      <td>NaN</td>\n",
       "    </tr>\n",
       "    <tr>\n",
       "      <td>1</td>\n",
       "      <td>JC510203</td>\n",
       "      <td>04/15/2010 08:00:00 AM</td>\n",
       "      <td>025XX W AUGUSTA BLVD</td>\n",
       "      <td>1120</td>\n",
       "      <td>DECEPTIVE PRACTICE</td>\n",
       "      <td>FORGERY</td>\n",
       "      <td>RESIDENCE</td>\n",
       "      <td>False</td>\n",
       "      <td>False</td>\n",
       "      <td>1211</td>\n",
       "      <td>26.0</td>\n",
       "      <td>10</td>\n",
       "      <td>NaN</td>\n",
       "      <td>NaN</td>\n",
       "      <td>2010</td>\n",
       "      <td>NaN</td>\n",
       "      <td>NaN</td>\n",
       "      <td>NaN</td>\n",
       "    </tr>\n",
       "    <tr>\n",
       "      <td>2</td>\n",
       "      <td>JC507834</td>\n",
       "      <td>06/01/2010 02:50:00 PM</td>\n",
       "      <td>102XX S AVENUE N</td>\n",
       "      <td>1153</td>\n",
       "      <td>DECEPTIVE PRACTICE</td>\n",
       "      <td>FINANCIAL IDENTITY THEFT OVER $ 300</td>\n",
       "      <td>NaN</td>\n",
       "      <td>False</td>\n",
       "      <td>False</td>\n",
       "      <td>432</td>\n",
       "      <td>10.0</td>\n",
       "      <td>11</td>\n",
       "      <td>NaN</td>\n",
       "      <td>NaN</td>\n",
       "      <td>2010</td>\n",
       "      <td>NaN</td>\n",
       "      <td>NaN</td>\n",
       "      <td>NaN</td>\n",
       "    </tr>\n",
       "    <tr>\n",
       "      <td>3</td>\n",
       "      <td>JC502258</td>\n",
       "      <td>11/07/2010 04:15:00 PM</td>\n",
       "      <td>041XX W SCHOOL ST</td>\n",
       "      <td>1153</td>\n",
       "      <td>DECEPTIVE PRACTICE</td>\n",
       "      <td>FINANCIAL IDENTITY THEFT OVER $ 300</td>\n",
       "      <td>NaN</td>\n",
       "      <td>False</td>\n",
       "      <td>False</td>\n",
       "      <td>1731</td>\n",
       "      <td>30.0</td>\n",
       "      <td>11</td>\n",
       "      <td>NaN</td>\n",
       "      <td>NaN</td>\n",
       "      <td>2010</td>\n",
       "      <td>NaN</td>\n",
       "      <td>NaN</td>\n",
       "      <td>NaN</td>\n",
       "    </tr>\n",
       "    <tr>\n",
       "      <td>4</td>\n",
       "      <td>JC490052</td>\n",
       "      <td>01/01/2010 12:00:00 AM</td>\n",
       "      <td>017XX W 48TH ST</td>\n",
       "      <td>1752</td>\n",
       "      <td>OFFENSE INVOLVING CHILDREN</td>\n",
       "      <td>AGG CRIM SEX ABUSE FAM MEMBER</td>\n",
       "      <td>APARTMENT</td>\n",
       "      <td>False</td>\n",
       "      <td>False</td>\n",
       "      <td>931</td>\n",
       "      <td>15.0</td>\n",
       "      <td>17</td>\n",
       "      <td>NaN</td>\n",
       "      <td>NaN</td>\n",
       "      <td>2010</td>\n",
       "      <td>NaN</td>\n",
       "      <td>NaN</td>\n",
       "      <td>NaN</td>\n",
       "    </tr>\n",
       "  </tbody>\n",
       "</table>\n",
       "</div>"
      ],
      "text/plain": [
       "  Case Number                    Date                 Block  IUCR  \\\n",
       "0    JC510649  01/01/2010 07:00:00 PM    033XX W WARNER AVE  0266   \n",
       "1    JC510203  04/15/2010 08:00:00 AM  025XX W AUGUSTA BLVD  1120   \n",
       "2    JC507834  06/01/2010 02:50:00 PM      102XX S AVENUE N  1153   \n",
       "3    JC502258  11/07/2010 04:15:00 PM     041XX W SCHOOL ST  1153   \n",
       "4    JC490052  01/01/2010 12:00:00 AM       017XX W 48TH ST  1752   \n",
       "\n",
       "                 Primary Type                          Description  \\\n",
       "0         CRIM SEXUAL ASSAULT                            PREDATORY   \n",
       "1          DECEPTIVE PRACTICE                              FORGERY   \n",
       "2          DECEPTIVE PRACTICE  FINANCIAL IDENTITY THEFT OVER $ 300   \n",
       "3          DECEPTIVE PRACTICE  FINANCIAL IDENTITY THEFT OVER $ 300   \n",
       "4  OFFENSE INVOLVING CHILDREN        AGG CRIM SEX ABUSE FAM MEMBER   \n",
       "\n",
       "  Location Description  Arrest  Domestic  Beat  Ward FBI Code  X Coordinate  \\\n",
       "0            APARTMENT   False     False  1724  33.0       02           NaN   \n",
       "1            RESIDENCE   False     False  1211  26.0       10           NaN   \n",
       "2                  NaN   False     False   432  10.0       11           NaN   \n",
       "3                  NaN   False     False  1731  30.0       11           NaN   \n",
       "4            APARTMENT   False     False   931  15.0       17           NaN   \n",
       "\n",
       "   Y Coordinate  Year  Latitude  Longitude Location  \n",
       "0           NaN  2010       NaN        NaN      NaN  \n",
       "1           NaN  2010       NaN        NaN      NaN  \n",
       "2           NaN  2010       NaN        NaN      NaN  \n",
       "3           NaN  2010       NaN        NaN      NaN  \n",
       "4           NaN  2010       NaN        NaN      NaN  "
      ]
     },
     "execution_count": 2,
     "metadata": {},
     "output_type": "execute_result"
    }
   ],
   "source": [
    "data = pd.read_csv(\"/Users/chenxu/Desktop/Crimes_-_2010.csv\")\n",
    "data.head()"
   ]
  },
  {
   "cell_type": "markdown",
   "metadata": {},
   "source": [
    "### 查看数据概况"
   ]
  },
  {
   "cell_type": "code",
   "execution_count": 3,
   "metadata": {
    "pycharm": {
     "is_executing": false
    }
   },
   "outputs": [
    {
     "data": {
      "text/html": [
       "<div>\n",
       "<style scoped>\n",
       "    .dataframe tbody tr th:only-of-type {\n",
       "        vertical-align: middle;\n",
       "    }\n",
       "\n",
       "    .dataframe tbody tr th {\n",
       "        vertical-align: top;\n",
       "    }\n",
       "\n",
       "    .dataframe thead th {\n",
       "        text-align: right;\n",
       "    }\n",
       "</style>\n",
       "<table border=\"1\" class=\"dataframe\">\n",
       "  <thead>\n",
       "    <tr style=\"text-align: right;\">\n",
       "      <th></th>\n",
       "      <th>Beat</th>\n",
       "      <th>Ward</th>\n",
       "      <th>X Coordinate</th>\n",
       "      <th>Y Coordinate</th>\n",
       "      <th>Year</th>\n",
       "      <th>Latitude</th>\n",
       "      <th>Longitude</th>\n",
       "    </tr>\n",
       "  </thead>\n",
       "  <tbody>\n",
       "    <tr>\n",
       "      <td>count</td>\n",
       "      <td>370359.000000</td>\n",
       "      <td>370341.000000</td>\n",
       "      <td>3.699970e+05</td>\n",
       "      <td>3.699970e+05</td>\n",
       "      <td>370359.0</td>\n",
       "      <td>369997.000000</td>\n",
       "      <td>369997.000000</td>\n",
       "    </tr>\n",
       "    <tr>\n",
       "      <td>mean</td>\n",
       "      <td>1212.411744</td>\n",
       "      <td>22.746193</td>\n",
       "      <td>1.164287e+06</td>\n",
       "      <td>1.885372e+06</td>\n",
       "      <td>2010.0</td>\n",
       "      <td>41.841059</td>\n",
       "      <td>-87.672647</td>\n",
       "    </tr>\n",
       "    <tr>\n",
       "      <td>std</td>\n",
       "      <td>707.208183</td>\n",
       "      <td>13.697842</td>\n",
       "      <td>1.831233e+04</td>\n",
       "      <td>3.444941e+04</td>\n",
       "      <td>0.0</td>\n",
       "      <td>0.094852</td>\n",
       "      <td>0.065887</td>\n",
       "    </tr>\n",
       "    <tr>\n",
       "      <td>min</td>\n",
       "      <td>111.000000</td>\n",
       "      <td>1.000000</td>\n",
       "      <td>0.000000e+00</td>\n",
       "      <td>0.000000e+00</td>\n",
       "      <td>2010.0</td>\n",
       "      <td>36.619446</td>\n",
       "      <td>-91.686566</td>\n",
       "    </tr>\n",
       "    <tr>\n",
       "      <td>25%</td>\n",
       "      <td>624.000000</td>\n",
       "      <td>10.000000</td>\n",
       "      <td>1.152766e+06</td>\n",
       "      <td>1.858791e+06</td>\n",
       "      <td>2010.0</td>\n",
       "      <td>41.767903</td>\n",
       "      <td>-87.714441</td>\n",
       "    </tr>\n",
       "    <tr>\n",
       "      <td>50%</td>\n",
       "      <td>1112.000000</td>\n",
       "      <td>22.000000</td>\n",
       "      <td>1.165621e+06</td>\n",
       "      <td>1.890151e+06</td>\n",
       "      <td>2010.0</td>\n",
       "      <td>41.854298</td>\n",
       "      <td>-87.667468</td>\n",
       "    </tr>\n",
       "    <tr>\n",
       "      <td>75%</td>\n",
       "      <td>1733.000000</td>\n",
       "      <td>34.000000</td>\n",
       "      <td>1.176178e+06</td>\n",
       "      <td>1.909691e+06</td>\n",
       "      <td>2010.0</td>\n",
       "      <td>41.908123</td>\n",
       "      <td>-87.629210</td>\n",
       "    </tr>\n",
       "    <tr>\n",
       "      <td>max</td>\n",
       "      <td>2535.000000</td>\n",
       "      <td>50.000000</td>\n",
       "      <td>1.205119e+06</td>\n",
       "      <td>1.951499e+06</td>\n",
       "      <td>2010.0</td>\n",
       "      <td>42.022549</td>\n",
       "      <td>-87.524529</td>\n",
       "    </tr>\n",
       "  </tbody>\n",
       "</table>\n",
       "</div>"
      ],
      "text/plain": [
       "                Beat           Ward  X Coordinate  Y Coordinate      Year  \\\n",
       "count  370359.000000  370341.000000  3.699970e+05  3.699970e+05  370359.0   \n",
       "mean     1212.411744      22.746193  1.164287e+06  1.885372e+06    2010.0   \n",
       "std       707.208183      13.697842  1.831233e+04  3.444941e+04       0.0   \n",
       "min       111.000000       1.000000  0.000000e+00  0.000000e+00    2010.0   \n",
       "25%       624.000000      10.000000  1.152766e+06  1.858791e+06    2010.0   \n",
       "50%      1112.000000      22.000000  1.165621e+06  1.890151e+06    2010.0   \n",
       "75%      1733.000000      34.000000  1.176178e+06  1.909691e+06    2010.0   \n",
       "max      2535.000000      50.000000  1.205119e+06  1.951499e+06    2010.0   \n",
       "\n",
       "            Latitude      Longitude  \n",
       "count  369997.000000  369997.000000  \n",
       "mean       41.841059     -87.672647  \n",
       "std         0.094852       0.065887  \n",
       "min        36.619446     -91.686566  \n",
       "25%        41.767903     -87.714441  \n",
       "50%        41.854298     -87.667468  \n",
       "75%        41.908123     -87.629210  \n",
       "max        42.022549     -87.524529  "
      ]
     },
     "execution_count": 3,
     "metadata": {},
     "output_type": "execute_result"
    }
   ],
   "source": [
    "data.describe()"
   ]
  },
  {
   "cell_type": "code",
   "execution_count": 4,
   "metadata": {
    "pycharm": {
     "is_executing": false
    }
   },
   "outputs": [
    {
     "name": "stdout",
     "output_type": "stream",
     "text": [
      "<class 'pandas.core.frame.DataFrame'>\n",
      "RangeIndex: 370359 entries, 0 to 370358\n",
      "Data columns (total 18 columns):\n",
      "Case Number             370358 non-null object\n",
      "Date                    370359 non-null object\n",
      "Block                   370359 non-null object\n",
      "IUCR                    370359 non-null object\n",
      "Primary Type            370359 non-null object\n",
      "Description             370359 non-null object\n",
      "Location Description    370311 non-null object\n",
      "Arrest                  370359 non-null bool\n",
      "Domestic                370359 non-null bool\n",
      "Beat                    370359 non-null int64\n",
      "Ward                    370341 non-null float64\n",
      "FBI Code                370359 non-null object\n",
      "X Coordinate            369997 non-null float64\n",
      "Y Coordinate            369997 non-null float64\n",
      "Year                    370359 non-null int64\n",
      "Latitude                369997 non-null float64\n",
      "Longitude               369997 non-null float64\n",
      "Location                369997 non-null object\n",
      "dtypes: bool(2), float64(5), int64(2), object(9)\n",
      "memory usage: 45.9+ MB\n"
     ]
    }
   ],
   "source": [
    "data.info()"
   ]
  },
  {
   "cell_type": "code",
   "execution_count": 5,
   "metadata": {
    "pycharm": {
     "is_executing": false
    }
   },
   "outputs": [
    {
     "data": {
      "text/plain": [
       "{'Case Number': 370331,\n",
       " 'Date': 129442,\n",
       " 'Block': 28736,\n",
       " 'IUCR': 325,\n",
       " 'Primary Type': 30,\n",
       " 'Description': 304,\n",
       " 'Location Description': 120,\n",
       " 'Arrest': 2,\n",
       " 'Domestic': 2,\n",
       " 'Beat': 302,\n",
       " 'Ward': 51,\n",
       " 'FBI Code': 25,\n",
       " 'X Coordinate': 56289,\n",
       " 'Y Coordinate': 84050,\n",
       " 'Year': 1,\n",
       " 'Latitude': 175673,\n",
       " 'Longitude': 175644,\n",
       " 'Location': 175720}"
      ]
     },
     "execution_count": 5,
     "metadata": {},
     "output_type": "execute_result"
    }
   ],
   "source": [
    "#查看每个字段不重复的变量有多少个，为挑选目标变量做准备\n",
    "col_num = {}\n",
    "for col in data.columns:\n",
    "    col_num[col] = len(data[col].unique())\n",
    "col_num"
   ]
  },
  {
   "cell_type": "markdown",
   "metadata": {},
   "source": [
    "### Arrest作为目标变量"
   ]
  },
  {
   "cell_type": "code",
   "execution_count": 6,
   "metadata": {
    "pycharm": {
     "is_executing": false
    }
   },
   "outputs": [
    {
     "data": {
      "text/html": [
       "<div>\n",
       "<style scoped>\n",
       "    .dataframe tbody tr th:only-of-type {\n",
       "        vertical-align: middle;\n",
       "    }\n",
       "\n",
       "    .dataframe tbody tr th {\n",
       "        vertical-align: top;\n",
       "    }\n",
       "\n",
       "    .dataframe thead th {\n",
       "        text-align: right;\n",
       "    }\n",
       "</style>\n",
       "<table border=\"1\" class=\"dataframe\">\n",
       "  <thead>\n",
       "    <tr style=\"text-align: right;\">\n",
       "      <th></th>\n",
       "      <th>Case Number</th>\n",
       "      <th>Date</th>\n",
       "      <th>Block</th>\n",
       "      <th>IUCR</th>\n",
       "      <th>Primary Type</th>\n",
       "      <th>Description</th>\n",
       "      <th>Location Description</th>\n",
       "      <th>Arrest</th>\n",
       "      <th>Domestic</th>\n",
       "      <th>Beat</th>\n",
       "      <th>Ward</th>\n",
       "      <th>FBI Code</th>\n",
       "      <th>X Coordinate</th>\n",
       "      <th>Y Coordinate</th>\n",
       "      <th>Year</th>\n",
       "      <th>Latitude</th>\n",
       "      <th>Longitude</th>\n",
       "      <th>Location</th>\n",
       "    </tr>\n",
       "  </thead>\n",
       "  <tbody>\n",
       "    <tr>\n",
       "      <td>0</td>\n",
       "      <td>JC510649</td>\n",
       "      <td>01/01/2010 07:00:00 PM</td>\n",
       "      <td>033XX W WARNER AVE</td>\n",
       "      <td>0266</td>\n",
       "      <td>CRIM SEXUAL ASSAULT</td>\n",
       "      <td>PREDATORY</td>\n",
       "      <td>APARTMENT</td>\n",
       "      <td>0</td>\n",
       "      <td>False</td>\n",
       "      <td>1724</td>\n",
       "      <td>33.0</td>\n",
       "      <td>02</td>\n",
       "      <td>NaN</td>\n",
       "      <td>NaN</td>\n",
       "      <td>2010</td>\n",
       "      <td>NaN</td>\n",
       "      <td>NaN</td>\n",
       "      <td>NaN</td>\n",
       "    </tr>\n",
       "    <tr>\n",
       "      <td>1</td>\n",
       "      <td>JC510203</td>\n",
       "      <td>04/15/2010 08:00:00 AM</td>\n",
       "      <td>025XX W AUGUSTA BLVD</td>\n",
       "      <td>1120</td>\n",
       "      <td>DECEPTIVE PRACTICE</td>\n",
       "      <td>FORGERY</td>\n",
       "      <td>RESIDENCE</td>\n",
       "      <td>0</td>\n",
       "      <td>False</td>\n",
       "      <td>1211</td>\n",
       "      <td>26.0</td>\n",
       "      <td>10</td>\n",
       "      <td>NaN</td>\n",
       "      <td>NaN</td>\n",
       "      <td>2010</td>\n",
       "      <td>NaN</td>\n",
       "      <td>NaN</td>\n",
       "      <td>NaN</td>\n",
       "    </tr>\n",
       "    <tr>\n",
       "      <td>2</td>\n",
       "      <td>JC507834</td>\n",
       "      <td>06/01/2010 02:50:00 PM</td>\n",
       "      <td>102XX S AVENUE N</td>\n",
       "      <td>1153</td>\n",
       "      <td>DECEPTIVE PRACTICE</td>\n",
       "      <td>FINANCIAL IDENTITY THEFT OVER $ 300</td>\n",
       "      <td>NaN</td>\n",
       "      <td>0</td>\n",
       "      <td>False</td>\n",
       "      <td>432</td>\n",
       "      <td>10.0</td>\n",
       "      <td>11</td>\n",
       "      <td>NaN</td>\n",
       "      <td>NaN</td>\n",
       "      <td>2010</td>\n",
       "      <td>NaN</td>\n",
       "      <td>NaN</td>\n",
       "      <td>NaN</td>\n",
       "    </tr>\n",
       "    <tr>\n",
       "      <td>3</td>\n",
       "      <td>JC502258</td>\n",
       "      <td>11/07/2010 04:15:00 PM</td>\n",
       "      <td>041XX W SCHOOL ST</td>\n",
       "      <td>1153</td>\n",
       "      <td>DECEPTIVE PRACTICE</td>\n",
       "      <td>FINANCIAL IDENTITY THEFT OVER $ 300</td>\n",
       "      <td>NaN</td>\n",
       "      <td>0</td>\n",
       "      <td>False</td>\n",
       "      <td>1731</td>\n",
       "      <td>30.0</td>\n",
       "      <td>11</td>\n",
       "      <td>NaN</td>\n",
       "      <td>NaN</td>\n",
       "      <td>2010</td>\n",
       "      <td>NaN</td>\n",
       "      <td>NaN</td>\n",
       "      <td>NaN</td>\n",
       "    </tr>\n",
       "    <tr>\n",
       "      <td>4</td>\n",
       "      <td>JC490052</td>\n",
       "      <td>01/01/2010 12:00:00 AM</td>\n",
       "      <td>017XX W 48TH ST</td>\n",
       "      <td>1752</td>\n",
       "      <td>OFFENSE INVOLVING CHILDREN</td>\n",
       "      <td>AGG CRIM SEX ABUSE FAM MEMBER</td>\n",
       "      <td>APARTMENT</td>\n",
       "      <td>0</td>\n",
       "      <td>False</td>\n",
       "      <td>931</td>\n",
       "      <td>15.0</td>\n",
       "      <td>17</td>\n",
       "      <td>NaN</td>\n",
       "      <td>NaN</td>\n",
       "      <td>2010</td>\n",
       "      <td>NaN</td>\n",
       "      <td>NaN</td>\n",
       "      <td>NaN</td>\n",
       "    </tr>\n",
       "  </tbody>\n",
       "</table>\n",
       "</div>"
      ],
      "text/plain": [
       "  Case Number                    Date                 Block  IUCR  \\\n",
       "0    JC510649  01/01/2010 07:00:00 PM    033XX W WARNER AVE  0266   \n",
       "1    JC510203  04/15/2010 08:00:00 AM  025XX W AUGUSTA BLVD  1120   \n",
       "2    JC507834  06/01/2010 02:50:00 PM      102XX S AVENUE N  1153   \n",
       "3    JC502258  11/07/2010 04:15:00 PM     041XX W SCHOOL ST  1153   \n",
       "4    JC490052  01/01/2010 12:00:00 AM       017XX W 48TH ST  1752   \n",
       "\n",
       "                 Primary Type                          Description  \\\n",
       "0         CRIM SEXUAL ASSAULT                            PREDATORY   \n",
       "1          DECEPTIVE PRACTICE                              FORGERY   \n",
       "2          DECEPTIVE PRACTICE  FINANCIAL IDENTITY THEFT OVER $ 300   \n",
       "3          DECEPTIVE PRACTICE  FINANCIAL IDENTITY THEFT OVER $ 300   \n",
       "4  OFFENSE INVOLVING CHILDREN        AGG CRIM SEX ABUSE FAM MEMBER   \n",
       "\n",
       "  Location Description  Arrest  Domestic  Beat  Ward FBI Code  X Coordinate  \\\n",
       "0            APARTMENT       0     False  1724  33.0       02           NaN   \n",
       "1            RESIDENCE       0     False  1211  26.0       10           NaN   \n",
       "2                  NaN       0     False   432  10.0       11           NaN   \n",
       "3                  NaN       0     False  1731  30.0       11           NaN   \n",
       "4            APARTMENT       0     False   931  15.0       17           NaN   \n",
       "\n",
       "   Y Coordinate  Year  Latitude  Longitude Location  \n",
       "0           NaN  2010       NaN        NaN      NaN  \n",
       "1           NaN  2010       NaN        NaN      NaN  \n",
       "2           NaN  2010       NaN        NaN      NaN  \n",
       "3           NaN  2010       NaN        NaN      NaN  \n",
       "4           NaN  2010       NaN        NaN      NaN  "
      ]
     },
     "execution_count": 6,
     "metadata": {},
     "output_type": "execute_result"
    }
   ],
   "source": [
    "data['Arrest'] = data['Arrest'].astype(int)\n",
    "data.head()"
   ]
  },
  {
   "cell_type": "markdown",
   "metadata": {},
   "source": [
    "### 查看Arrest与Primary Type的关系（可视化）"
   ]
  },
  {
   "cell_type": "code",
   "execution_count": 7,
   "metadata": {
    "pycharm": {
     "is_executing": false
    }
   },
   "outputs": [
    {
     "data": {
      "text/html": [
       "<div>\n",
       "<style scoped>\n",
       "    .dataframe tbody tr th:only-of-type {\n",
       "        vertical-align: middle;\n",
       "    }\n",
       "\n",
       "    .dataframe tbody tr th {\n",
       "        vertical-align: top;\n",
       "    }\n",
       "\n",
       "    .dataframe thead th {\n",
       "        text-align: right;\n",
       "    }\n",
       "</style>\n",
       "<table border=\"1\" class=\"dataframe\">\n",
       "  <thead>\n",
       "    <tr style=\"text-align: right;\">\n",
       "      <th></th>\n",
       "      <th>0</th>\n",
       "      <th>1</th>\n",
       "    </tr>\n",
       "    <tr>\n",
       "      <th>Primary Type</th>\n",
       "      <th></th>\n",
       "      <th></th>\n",
       "    </tr>\n",
       "  </thead>\n",
       "  <tbody>\n",
       "    <tr>\n",
       "      <td>ARSON</td>\n",
       "      <td>456.0</td>\n",
       "      <td>66.0</td>\n",
       "    </tr>\n",
       "    <tr>\n",
       "      <td>ASSAULT</td>\n",
       "      <td>16485.0</td>\n",
       "      <td>5051.0</td>\n",
       "    </tr>\n",
       "    <tr>\n",
       "      <td>BATTERY</td>\n",
       "      <td>51125.0</td>\n",
       "      <td>14278.0</td>\n",
       "    </tr>\n",
       "    <tr>\n",
       "      <td>BURGLARY</td>\n",
       "      <td>25039.0</td>\n",
       "      <td>1383.0</td>\n",
       "    </tr>\n",
       "    <tr>\n",
       "      <td>CRIM SEXUAL ASSAULT</td>\n",
       "      <td>1124.0</td>\n",
       "      <td>245.0</td>\n",
       "    </tr>\n",
       "    <tr>\n",
       "      <td>CRIMINAL DAMAGE</td>\n",
       "      <td>38012.0</td>\n",
       "      <td>2641.0</td>\n",
       "    </tr>\n",
       "    <tr>\n",
       "      <td>CRIMINAL TRESPASS</td>\n",
       "      <td>2899.0</td>\n",
       "      <td>6502.0</td>\n",
       "    </tr>\n",
       "    <tr>\n",
       "      <td>DECEPTIVE PRACTICE</td>\n",
       "      <td>10445.0</td>\n",
       "      <td>2080.0</td>\n",
       "    </tr>\n",
       "    <tr>\n",
       "      <td>GAMBLING</td>\n",
       "      <td>NaN</td>\n",
       "      <td>927.0</td>\n",
       "    </tr>\n",
       "    <tr>\n",
       "      <td>HOMICIDE</td>\n",
       "      <td>235.0</td>\n",
       "      <td>203.0</td>\n",
       "    </tr>\n",
       "    <tr>\n",
       "      <td>HUMAN TRAFFICKING</td>\n",
       "      <td>1.0</td>\n",
       "      <td>NaN</td>\n",
       "    </tr>\n",
       "    <tr>\n",
       "      <td>INTERFERENCE WITH PUBLIC OFFICER</td>\n",
       "      <td>99.0</td>\n",
       "      <td>698.0</td>\n",
       "    </tr>\n",
       "    <tr>\n",
       "      <td>INTIMIDATION</td>\n",
       "      <td>174.0</td>\n",
       "      <td>23.0</td>\n",
       "    </tr>\n",
       "    <tr>\n",
       "      <td>KIDNAPPING</td>\n",
       "      <td>286.0</td>\n",
       "      <td>27.0</td>\n",
       "    </tr>\n",
       "    <tr>\n",
       "      <td>LIQUOR LAW VIOLATION</td>\n",
       "      <td>1.0</td>\n",
       "      <td>735.0</td>\n",
       "    </tr>\n",
       "    <tr>\n",
       "      <td>MOTOR VEHICLE THEFT</td>\n",
       "      <td>17982.0</td>\n",
       "      <td>1047.0</td>\n",
       "    </tr>\n",
       "    <tr>\n",
       "      <td>NARCOTICS</td>\n",
       "      <td>99.0</td>\n",
       "      <td>43294.0</td>\n",
       "    </tr>\n",
       "    <tr>\n",
       "      <td>NON-CRIMINAL</td>\n",
       "      <td>1.0</td>\n",
       "      <td>NaN</td>\n",
       "    </tr>\n",
       "    <tr>\n",
       "      <td>OBSCENITY</td>\n",
       "      <td>7.0</td>\n",
       "      <td>27.0</td>\n",
       "    </tr>\n",
       "    <tr>\n",
       "      <td>OFFENSE INVOLVING CHILDREN</td>\n",
       "      <td>2057.0</td>\n",
       "      <td>510.0</td>\n",
       "    </tr>\n",
       "    <tr>\n",
       "      <td>OTHER NARCOTIC VIOLATION</td>\n",
       "      <td>4.0</td>\n",
       "      <td>2.0</td>\n",
       "    </tr>\n",
       "    <tr>\n",
       "      <td>OTHER OFFENSE</td>\n",
       "      <td>18743.0</td>\n",
       "      <td>3269.0</td>\n",
       "    </tr>\n",
       "    <tr>\n",
       "      <td>PROSTITUTION</td>\n",
       "      <td>5.0</td>\n",
       "      <td>2480.0</td>\n",
       "    </tr>\n",
       "    <tr>\n",
       "      <td>PUBLIC INDECENCY</td>\n",
       "      <td>NaN</td>\n",
       "      <td>7.0</td>\n",
       "    </tr>\n",
       "    <tr>\n",
       "      <td>PUBLIC PEACE VIOLATION</td>\n",
       "      <td>1013.0</td>\n",
       "      <td>2525.0</td>\n",
       "    </tr>\n",
       "    <tr>\n",
       "      <td>ROBBERY</td>\n",
       "      <td>12913.0</td>\n",
       "      <td>1361.0</td>\n",
       "    </tr>\n",
       "    <tr>\n",
       "      <td>SEX OFFENSE</td>\n",
       "      <td>792.0</td>\n",
       "      <td>332.0</td>\n",
       "    </tr>\n",
       "    <tr>\n",
       "      <td>STALKING</td>\n",
       "      <td>163.0</td>\n",
       "      <td>26.0</td>\n",
       "    </tr>\n",
       "    <tr>\n",
       "      <td>THEFT</td>\n",
       "      <td>68913.0</td>\n",
       "      <td>7843.0</td>\n",
       "    </tr>\n",
       "    <tr>\n",
       "      <td>WEAPONS VIOLATION</td>\n",
       "      <td>793.0</td>\n",
       "      <td>2911.0</td>\n",
       "    </tr>\n",
       "  </tbody>\n",
       "</table>\n",
       "</div>"
      ],
      "text/plain": [
       "                                        0        1\n",
       "Primary Type                                      \n",
       "ARSON                               456.0     66.0\n",
       "ASSAULT                           16485.0   5051.0\n",
       "BATTERY                           51125.0  14278.0\n",
       "BURGLARY                          25039.0   1383.0\n",
       "CRIM SEXUAL ASSAULT                1124.0    245.0\n",
       "CRIMINAL DAMAGE                   38012.0   2641.0\n",
       "CRIMINAL TRESPASS                  2899.0   6502.0\n",
       "DECEPTIVE PRACTICE                10445.0   2080.0\n",
       "GAMBLING                              NaN    927.0\n",
       "HOMICIDE                            235.0    203.0\n",
       "HUMAN TRAFFICKING                     1.0      NaN\n",
       "INTERFERENCE WITH PUBLIC OFFICER     99.0    698.0\n",
       "INTIMIDATION                        174.0     23.0\n",
       "KIDNAPPING                          286.0     27.0\n",
       "LIQUOR LAW VIOLATION                  1.0    735.0\n",
       "MOTOR VEHICLE THEFT               17982.0   1047.0\n",
       "NARCOTICS                            99.0  43294.0\n",
       "NON-CRIMINAL                          1.0      NaN\n",
       "OBSCENITY                             7.0     27.0\n",
       "OFFENSE INVOLVING CHILDREN         2057.0    510.0\n",
       "OTHER NARCOTIC VIOLATION              4.0      2.0\n",
       "OTHER OFFENSE                     18743.0   3269.0\n",
       "PROSTITUTION                          5.0   2480.0\n",
       "PUBLIC INDECENCY                      NaN      7.0\n",
       "PUBLIC PEACE VIOLATION             1013.0   2525.0\n",
       "ROBBERY                           12913.0   1361.0\n",
       "SEX OFFENSE                         792.0    332.0\n",
       "STALKING                            163.0     26.0\n",
       "THEFT                             68913.0   7843.0\n",
       "WEAPONS VIOLATION                   793.0   2911.0"
      ]
     },
     "execution_count": 7,
     "metadata": {},
     "output_type": "execute_result"
    }
   ],
   "source": [
    "fbi_arrest_count = data.groupby(['Primary Type','Arrest']).agg({'Arrest':'count'}).unstack()\n",
    "fbi_arrest_count.columns = [0,1]\n",
    "fbi_arrest_count"
   ]
  },
  {
   "cell_type": "code",
   "execution_count": 8,
   "metadata": {
    "pycharm": {
     "is_executing": false
    },
    "scrolled": true
   },
   "outputs": [
    {
     "data": {
      "text/plain": [
       "'/Users/chenxu/Desktop/bar.html'"
      ]
     },
     "execution_count": 8,
     "metadata": {},
     "output_type": "execute_result"
    }
   ],
   "source": [
    "from pyecharts.charts import Bar\n",
    "from pyecharts import options as opts\n",
    "import random\n",
    "%matplotlib inline\n",
    "attr = fbi_arrest_count.index.tolist()\n",
    "v1 = fbi_arrest_count[0].tolist()\n",
    "v2 = fbi_arrest_count[1].tolist()\n",
    "#bar = Bar()\n",
    "#bar.add(\"Arrest 0\", attr, v1, is_label_show = True, xaxis_label_textsize = 6, xaxis_rotate = 90, is_stack=True)\n",
    "#bar.add(\"Arrest 1\", attr, v2, is_label_show = True, xaxis_label_textsize = 6,xaxis_rotate = 90,is_stack=True)\n",
    "#bar.render(\"bar.html\")\n",
    "bar = (\n",
    "        Bar()\n",
    "        .add_xaxis(attr)\n",
    "        .add_yaxis(\"Not Arrest\", v1, stack=\"stack1\",color=\"black\")\n",
    "        .add_yaxis(\"Arrest\", v2,stack=\"stack1\",color=\"red\")\n",
    "        .set_series_opts(label_opts=opts.LabelOpts(is_show=False))\n",
    "        .set_global_opts(title_opts=opts.TitleOpts(title=\"Primary Type Count By FBI Code\"),\n",
    "                         xaxis_opts=opts.AxisOpts(axislabel_opts=opts.LabelOpts(rotate=90,font_size=10))\n",
    "                         \n",
    "        )\n",
    "    )\n",
    "bar.render(\"bar.html\")"
   ]
  },
  {
   "cell_type": "markdown",
   "metadata": {},
   "source": [
    "### 数据处理、缺失值填充"
   ]
  },
  {
   "cell_type": "code",
   "execution_count": 9,
   "metadata": {
    "pycharm": {
     "is_executing": false
    }
   },
   "outputs": [
    {
     "name": "stdout",
     "output_type": "stream",
     "text": [
      "<class 'pandas.core.frame.DataFrame'>\n",
      "RangeIndex: 370359 entries, 0 to 370358\n",
      "Data columns (total 18 columns):\n",
      "Case Number             370358 non-null object\n",
      "Date                    370359 non-null int64\n",
      "Block                   370359 non-null int64\n",
      "IUCR                    370359 non-null int64\n",
      "Primary Type            370359 non-null int64\n",
      "Description             370359 non-null int64\n",
      "Location Description    370359 non-null int64\n",
      "Arrest                  370359 non-null int64\n",
      "Domestic                370359 non-null bool\n",
      "Beat                    370359 non-null int64\n",
      "Ward                    370359 non-null float64\n",
      "FBI Code                370359 non-null int64\n",
      "X Coordinate            370359 non-null float64\n",
      "Y Coordinate            370359 non-null float64\n",
      "Year                    370359 non-null int64\n",
      "Latitude                370359 non-null float64\n",
      "Longitude               370359 non-null float64\n",
      "Location                370359 non-null int64\n",
      "dtypes: bool(1), float64(5), int64(11), object(1)\n",
      "memory usage: 48.4+ MB\n"
     ]
    }
   ],
   "source": [
    "from sklearn.preprocessing import LabelEncoder\n",
    "feat_col = [col for col in data.columns if col not in ['Case Number','Arrest']]\n",
    "obj_col = data[feat_col].dtypes[data[feat_col].dtypes == 'object'].index.tolist()\n",
    "for col in obj_col:\n",
    "    le = LabelEncoder()\n",
    "    data[col] = le.fit_transform(data[col].astype(str))\n",
    "    \n",
    "    \n",
    "for col in feat_col:\n",
    "    data[col] = data[col].fillna(data[col].mode()[0])\n",
    "    \n",
    "data.info()"
   ]
  },
  {
   "cell_type": "code",
   "execution_count": 10,
   "metadata": {
    "pycharm": {
     "is_executing": false
    }
   },
   "outputs": [
    {
     "data": {
      "text/plain": [
       "'done'"
      ]
     },
     "execution_count": 10,
     "metadata": {},
     "output_type": "execute_result"
    }
   ],
   "source": [
    "from sklearn.metrics import roc_auc_score\n",
    "from sklearn.model_selection import train_test_split\n",
    "train_x,val_x,train_y,val_y = train_test_split(data[feat_col],data['Arrest'],test_size=0.8,random_state=2019)\n",
    "'done'"
   ]
  },
  {
   "cell_type": "code",
   "execution_count": 11,
   "metadata": {
    "pycharm": {
     "is_executing": false
    }
   },
   "outputs": [
    {
     "name": "stdout",
     "output_type": "stream",
     "text": [
      "roc is 0.7514373067936143\n"
     ]
    }
   ],
   "source": [
    "clf = GaussianNB()\n",
    "clf.fit(train_x,train_y)\n",
    "pre_val = clf.predict_proba(val_x)[::,1]\n",
    "print('roc is',roc_auc_score(val_y,pre_val))"
   ]
  },
  {
   "cell_type": "code",
   "execution_count": null,
   "metadata": {
    "pycharm": {
     "is_executing": false
    }
   },
   "outputs": [],
   "source": []
  },
  {
   "cell_type": "code",
   "execution_count": null,
   "metadata": {
    "pycharm": {
     "is_executing": false
    }
   },
   "outputs": [],
   "source": []
  },
  {
   "cell_type": "code",
   "execution_count": null,
   "metadata": {
    "pycharm": {
     "is_executing": false
    }
   },
   "outputs": [],
   "source": []
  },
  {
   "cell_type": "code",
   "execution_count": null,
   "metadata": {
    "pycharm": {
     "is_executing": false
    }
   },
   "outputs": [],
   "source": []
  },
  {
   "cell_type": "code",
   "execution_count": 238,
   "metadata": {
    "pycharm": {
     "is_executing": false
    }
   },
   "outputs": [],
   "source": []
  },
  {
   "cell_type": "code",
   "execution_count": 238,
   "metadata": {
    "pycharm": {
     "is_executing": false
    }
   },
   "outputs": [],
   "source": []
  }
 ],
 "metadata": {
  "kernelspec": {
   "display_name": "Python 3",
   "language": "python",
   "name": "python3"
  },
  "language_info": {
   "codemirror_mode": {
    "name": "ipython",
    "version": 3
   },
   "file_extension": ".py",
   "mimetype": "text/x-python",
   "name": "python",
   "nbconvert_exporter": "python",
   "pygments_lexer": "ipython3",
   "version": "3.7.4"
  },
  "pycharm": {
   "stem_cell": {
    "cell_type": "raw",
    "metadata": {
     "collapsed": false
    },
    "source": []
   }
  }
 },
 "nbformat": 4,
 "nbformat_minor": 2
}
